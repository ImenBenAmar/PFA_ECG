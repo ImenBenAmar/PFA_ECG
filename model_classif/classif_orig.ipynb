{
 "cells": [
  {
   "cell_type": "code",
   "execution_count": 1,
   "metadata": {},
   "outputs": [],
   "source": [
    "import pandas as pd \n",
    "df=pd.read_csv('classification.csv')"
   ]
  },
  {
   "cell_type": "markdown",
   "metadata": {},
   "source": [
    "# importation"
   ]
  },
  {
   "cell_type": "code",
   "execution_count": 2,
   "metadata": {},
   "outputs": [],
   "source": [
    "import os\n",
    "import cv2\n",
    "import numpy as np\n",
    "import pandas as pd\n",
    "import torch\n",
    "import torch.nn as nn\n",
    "import torch.optim as optim\n",
    "from torch.optim.lr_scheduler import ReduceLROnPlateau\n",
    "from torch.utils.data import Dataset, DataLoader\n",
    "from torchvision import transforms\n",
    "from PIL import Image, UnidentifiedImageError\n",
    "import matplotlib.pyplot as plt\n",
    "from torch.utils.data.dataloader import default_collate"
   ]
  },
  {
   "cell_type": "markdown",
   "metadata": {},
   "source": [
    "# 1) Chargement et nettoyage du DataFrame"
   ]
  },
  {
   "cell_type": "code",
   "execution_count": 18,
   "metadata": {},
   "outputs": [],
   "source": [
    "\n",
    "try:\n",
    "    df\n",
    "except NameError:\n",
    "    df = pd.DataFrame(columns=[\n",
    "        \"filename_lr\", \"age\", \"sex\", \"height\", \"weight\",\n",
    "        \"Myocardial Infarction (MI)\", \"ST/T Change (STTC)\",\n",
    "        \"Conduction Disturbance (CD)\", \"Hypertrophy (HYP)\", \"Normal (NORM)\"\n",
    "    ])\n",
    "\n",
    "image_dir = 'records100'\n",
    "df[\"filename_lr\"] = df[\"filename_lr\"].apply(lambda p: os.path.join(image_dir, p.split(\"/\")[-1] + \".png\"))\n",
    "df = df[df[\"filename_lr\"].apply(os.path.exists)].reset_index(drop=True)\n",
    "\n",
    "target_columns = [\n",
    "    \"Myocardial Infarction (MI)\", \"ST/T Change (STTC)\",\n",
    "    \"Conduction Disturbance (CD)\", \"Hypertrophy (HYP)\", \"Normal (NORM)\"\n",
    "]"
   ]
  },
  {
   "cell_type": "markdown",
   "metadata": {},
   "source": [
    "# 2) Transformation des images "
   ]
  },
  {
   "cell_type": "code",
   "execution_count": null,
   "metadata": {},
   "outputs": [],
   "source": [
    "\n",
    "image_transform = transforms.Compose([\n",
    "    transforms.Resize((128, 128)),\n",
    "    transforms.Grayscale(num_output_channels=3),\n",
    "    transforms.ToTensor(),\n",
    "    transforms.Normalize((0.5, 0.5, 0.5), (0.5, 0.5, 0.5))\n",
    "])"
   ]
  },
  {
   "cell_type": "markdown",
   "metadata": {},
   "source": [
    "Image (RGB, taille variable)\n",
    "\n",
    "\n",
    "\n",
    "    ↓\n",
    "\n",
    "\n",
    "Redimensionnée à 128x128\n",
    "\n",
    "\n",
    "    ↓\n",
    "\n",
    "\n",
    "Convertie en niveau de gris (mais avec 3 canaux identiques)\n",
    "\n",
    "\n",
    "    ↓\n",
    "\n",
    "\n",
    "Transformée en tenseur (3, 128, 128), valeurs entre [0, 1]\n",
    "\n",
    "\n",
    "\n",
    "    ↓\n",
    "Normalisée à une distribution centrée autour de 0 (valeurs entre [-1, 1])\n",
    "\n",
    "\n",
    "\n"
   ]
  },
  {
   "cell_type": "markdown",
   "metadata": {},
   "source": [
    "# 3) Dataset "
   ]
  },
  {
   "cell_type": "code",
   "execution_count": null,
   "metadata": {},
   "outputs": [],
   "source": [
    "class ECGDataset(Dataset):\n",
    "    def __init__(self, df, transform=None):\n",
    "        self.paths = df[\"filename_lr\"].tolist() #liste de paths \n",
    "        self.tab = torch.tensor(df[[\"age\", \"sex\", \"height\", \"weight\"]].values, dtype=torch.float32) #rendre les donneés tabulaires en tensor avec meme type \n",
    "        self.labels = torch.tensor(df[target_columns].values, dtype=torch.float32) #same pour les sorties \n",
    "        self.transform = transform\n",
    "\n",
    "    def __len__(self):\n",
    "        return len(self.paths)#len de la liste de paths\n",
    "\n",
    "    def __getitem__(self, idx):\n",
    "        path = self.paths[idx]\n",
    "        try:\n",
    "            img = Image.open(path).convert(\"RGB\") #ouvrir l'image et la convertir en RGB en cas de grayscale\n",
    "        except (UnidentifiedImageError, OSError):\n",
    "            return None\n",
    "        if self.transform:\n",
    "            img = self.transform(img) #appliquer la transformation sur l'image\n",
    "        return img, self.tab[idx], self.labels[idx]     #retourner l'image, les données tabulaires et les labels\n",
    "\n",
    "def collate_fn(batch):\n",
    "    batch = [b for b in batch if b is not None] #enlever les None\n",
    "    return default_collate(batch) if batch else [] #retourner le batch sans les None"
   ]
  },
  {
   "cell_type": "markdown",
   "metadata": {},
   "source": [
    "#  4) Préparation des DataLoaders "
   ]
  },
  {
   "cell_type": "code",
   "execution_count": null,
   "metadata": {},
   "outputs": [],
   "source": [
    "df_train = df.sample(frac=0.8, random_state=42) #80% pour l'entrainement\n",
    "df_val = df.drop(df_train.index) #20% pour la validation\n",
    "\n",
    "train_ds = ECGDataset(df_train, transform=image_transform) #créer le dataset d'entrainement\n",
    "val_ds = ECGDataset(df_val, transform=image_transform) #créer le dataset de validation\n",
    "\n",
    "train_loader = DataLoader(train_ds, batch_size=32, shuffle=True, collate_fn=collate_fn) #créer le dataloader d'entrainement\n",
    "val_loader = DataLoader(val_ds, batch_size=32, shuffle=False, collate_fn=collate_fn) #créer le dataloader de validation"
   ]
  },
  {
   "cell_type": "markdown",
   "metadata": {},
   "source": [
    "DataFrame complet (df)\n",
    "    ↓\n",
    "\n",
    "\n",
    "Séparation en train/validation\n",
    "\n",
    "\n",
    "    • df_train = df.sample(frac=0.8, random_state=42)\n",
    "    • df_val   = df.drop(df_train.index)\n",
    "\n",
    "\n",
    "    ↓\n",
    "\n",
    "\n",
    "\n",
    "Création des Dataset PyTorch\n",
    "\n",
    "\n",
    "    • train_ds = ECGDataset(df_train, transform=…)\n",
    "    • val_ds   = ECGDataset(df_val,   transform=…)\n",
    "\n",
    "    \n",
    "    ↓\n",
    "\n",
    "\n",
    "Création des DataLoader\n",
    "\n",
    "\n",
    "    • train_loader = DataLoader(\n",
    "          train_ds,\n",
    "          batch_size=32,\n",
    "          shuffle=True,\n",
    "          collate_fn=collate_fn\n",
    "      )\n",
    "      \n",
    "    • val_loader   = DataLoader(\n",
    "          val_ds,\n",
    "          batch_size=32,\n",
    "          shuffle=False,\n",
    "          collate_fn=collate_fn\n",
    "      )\n",
    "\n"
   ]
  },
  {
   "cell_type": "markdown",
   "metadata": {},
   "source": [
    "# 5) Modèle CNN personnalisé"
   ]
  },
  {
   "cell_type": "markdown",
   "metadata": {},
   "source": [
    "***Convolution « classique » vs « depthwise »**"
   ]
  },
  {
   "cell_type": "markdown",
   "metadata": {},
   "source": [
    "nn.Conv2d(in_c, out_c, kernel_size=3, padding=1)\n",
    "\n",
    "\n",
    "Pour chaque canal de sortie, on apprend un filtre 3×3 appliqué à tous les canaux d’entrée.\n",
    "\n",
    "**Nombre de paramètres = (in_c×kernel_h×kernel_w)×out_c+out_c (biais)**\n",
    "\n",
    "→ gros quand in_c et out_c sont grands.\n",
    "\n",
    "vs \n",
    "\n",
    "\n",
    "nn.Conv2d(in_c, in_c, kernel_size=3, padding=1, groups=in_c)\n",
    "  \n",
    "  **Nombre de paramètres = (1 canal×3×3)×in_c+in_c (biais)=9in_c+in_c=10in_c***\n",
    "\n",
    "-->Chaque canal d’entrée est convolué par son propre filtre 3×3, indépendamment des autres canaux."
   ]
  },
  {
   "cell_type": "code",
   "execution_count": null,
   "metadata": {},
   "outputs": [],
   "source": [
    "class LightCNN(nn.Module):\n",
    "    def __init__(self, dropout_rate=0.3):\n",
    "        super().__init__()\n",
    "        def dw_conv(in_c, out_c):\n",
    "            return nn.Sequential(\n",
    "                nn.Conv2d(in_c, in_c, kernel_size=3, padding=1, groups=in_c),#in_c → in_c : nombre de canaux en entrée et sortie identique ,kernel_size=3 : filtre 3×3,padding=1 : ajoute 1 pixel de chaque côté pour conserver la même taille spatiale,groups=in_c : depthwise convolution (un filtre par canal): réduit drastiquement le nombre de paramètres.\n",
    "                nn.BatchNorm2d(in_c), #Normalisation de batch sur les in_c canaux pour stabiliser et accélérer l’entraînement.\n",
    "                nn.ReLU(), #Fonction d’activation ReLU pour introduire de la non-linéarité.\n",
    "                nn.Conv2d(in_c, out_c, kernel_size=1), # Coût en paramètres :in_c×out_c+out_c(biais) ,mélange de canaux\n",
    "                nn.BatchNorm2d(out_c), #Normalisation de batch sur les out_c canaux pour stabiliser et accélérer l’entraînement.\n",
    "                nn.ReLU(),\n",
    "                nn.MaxPool2d(2) #Réduction de la taille spatiale par un facteur de 2 (16x16) pour réduire la complexité computationnelle et extraire des caractéristiques plus abstraites.\n",
    "            )\n",
    "        self.conv1 = dw_conv(3, 16) #3 canaux d'entrée (RGB) et 16 canaux de sortie\n",
    "        self.conv2 = dw_conv(16, 32) #16 canaux d'entrée et 32 canaux de sortie\n",
    "        self.conv3 = dw_conv(32, 64) #32 canaux d'entrée et 64 canaux de sortie\n",
    "\n",
    "        self.cnn_fc = nn.Sequential(\n",
    "            nn.Flatten(), #Aplatie le tenseur de (batch, 64, 16, 16) → (batch, 64*16*16)\n",
    "            nn.Linear(64 * 16 * 16, 256), #Couche entièrement connectée réduisant de 64*16*16=16384 dimensions à 256.\n",
    "            nn.ReLU(),\n",
    "            nn.Dropout(dropout_rate) #Applique un abandon de dropout_rate (ici 0.3) pour réduire le sur‑apprentissage.\n",
    "        )\n",
    "\n",
    "        self.mlp = nn.Sequential(\n",
    "            nn.Linear(4, 16), #4 features tabulaires (age, sex, height, weight) → 16 dimensions\n",
    "            nn.BatchNorm1d(16), \n",
    "            nn.ReLU(),\n",
    "            nn.Dropout(0.2),\n",
    "            nn.Linear(16, 32), \n",
    "            nn.ReLU()\n",
    "        )\n",
    "\n",
    "        self.classifier = nn.Sequential(\n",
    "            nn.Linear(256 + 32, 64),#Combine les 256 sorties du CNN et les 32 du MLP (256 + 32 = 288) \n",
    "            nn.ReLU(),\n",
    "            nn.Dropout(dropout_rate),\n",
    "            nn.Linear(64, len(target_columns)) #64 → 5 (nombre de classes cibles)\n",
    "        )\n",
    "\n",
    "    def forward(self, img, tab):\n",
    "        x = self.conv1(img)\n",
    "        x = self.conv2(x)\n",
    "        x = self.conv3(x)\n",
    "        x = self.cnn_fc(x)\n",
    "        y = self.mlp(tab)\n",
    "        return self.classifier(torch.cat([x, y], dim=1))"
   ]
  },
  {
   "cell_type": "code",
   "execution_count": null,
   "metadata": {},
   "outputs": [],
   "source": []
  },
  {
   "cell_type": "markdown",
   "metadata": {},
   "source": [
    "# 6) Entraînement"
   ]
  },
  {
   "cell_type": "code",
   "execution_count": null,
   "metadata": {},
   "outputs": [
    {
     "name": "stderr",
     "output_type": "stream",
     "text": [
      "c:\\Users\\pc\\anaconda3\\Lib\\site-packages\\torch\\optim\\lr_scheduler.py:62: UserWarning: The verbose parameter is deprecated. Please use get_last_lr() to access the learning rate.\n",
      "  warnings.warn(\n"
     ]
    },
    {
     "name": "stdout",
     "output_type": "stream",
     "text": [
      "Epoch 1/13 — Train Loss 0.4176 | Train Acc 0.8214 — Val Loss 0.3336 | Val Acc 0.8478\n",
      "Epoch 2/13 — Train Loss 0.3260 | Train Acc 0.8573 — Val Loss 0.3091 | Val Acc 0.8589\n",
      "Epoch 3/13 — Train Loss 0.3037 | Train Acc 0.8675 — Val Loss 0.2975 | Val Acc 0.8668\n",
      "Epoch 4/13 — Train Loss 0.2946 | Train Acc 0.8717 — Val Loss 0.2985 | Val Acc 0.8650\n",
      "Epoch 5/13 — Train Loss 0.2831 | Train Acc 0.8763 — Val Loss 0.2778 | Val Acc 0.8781\n",
      "Epoch 6/13 — Train Loss 0.2757 | Train Acc 0.8801 — Val Loss 0.2802 | Val Acc 0.8776\n",
      "Epoch 7/13 — Train Loss 0.2658 | Train Acc 0.8848 — Val Loss 0.2776 | Val Acc 0.8749\n",
      "Epoch 8/13 — Train Loss 0.2599 | Train Acc 0.8862 — Val Loss 0.2794 | Val Acc 0.8808\n",
      "Epoch 9/13 — Train Loss 0.2545 | Train Acc 0.8902 — Val Loss 0.2704 | Val Acc 0.8848\n",
      "Epoch 10/13 — Train Loss 0.2452 | Train Acc 0.8957 — Val Loss 0.2792 | Val Acc 0.8805\n",
      "Epoch 11/13 — Train Loss 0.2393 | Train Acc 0.8975 — Val Loss 0.2760 | Val Acc 0.8823\n",
      "Epoch 12/13 — Train Loss 0.2276 | Train Acc 0.9023 — Val Loss 0.2829 | Val Acc 0.8789\n",
      "Epoch 13/13 — Train Loss 0.2198 | Train Acc 0.9052 — Val Loss 0.2799 | Val Acc 0.8809\n"
     ]
    },
    {
     "name": "stderr",
     "output_type": "stream",
     "text": [
      "C:\\Users\\pc\\AppData\\Local\\Temp\\ipykernel_16620\\1940502247.py:190: FutureWarning: You are using `torch.load` with `weights_only=False` (the current default value), which uses the default pickle module implicitly. It is possible to construct malicious pickle data which will execute arbitrary code during unpickling (See https://github.com/pytorch/pytorch/blob/main/SECURITY.md#untrusted-models for more details). In a future release, the default value for `weights_only` will be flipped to `True`. This limits the functions that could be executed during unpickling. Arbitrary objects will no longer be allowed to be loaded via this mode unless they are explicitly allowlisted by the user via `torch.serialization.add_safe_globals`. We recommend you start setting `weights_only=True` for any use case where you don't have full control of the loaded file. Please open an issue on GitHub for any issues related to this experimental feature.\n",
      "  model.load_state_dict(torch.load(\"ecg_classifier_final.pth\"))\n"
     ]
    },
    {
     "data": {
      "image/png": "[encoded data removed]",
      "text/plain": [
       "<Figure size 1200x500 with 2 Axes>"
      ]
     },
     "metadata": {},
     "output_type": "display_data"
    }
   ],
   "source": [
    "device = torch.device(\"cuda\" if torch.cuda.is_available() else \"cpu\")\n",
    "model = LightCNN().to(device)\n",
    "criterion = nn.BCEWithLogitsLoss() #BCEWithLogitsLoss : fonction de perte pour des problèmes de classification binaire (ou multi‑étiquette).,Avantage : plus stable numériquement que d’appliquer séparément sigmoid() puis BCELoss().\n",
    "optimizer = optim.Adam(model.parameters(), lr=1e-3) # optimiseur Adam (Adaptive Moment Estimation), qui ajuste les learning rates de chaque paramètre de manière adaptative.,tous les paramètres (poids, biais) du modèle seront mis à jour par l’optimiseur., learning rate initial fixé à 0.001, contrôlant la taille des pas de mise à jour à chaque itération.\n",
    "scheduler = ReduceLROnPlateau(optimizer, mode='min', factor=0.1, patience=3, verbose=True) #Réduit le learning rate si la perte de validation ne s’améliore pas pendant 3 epochs, en multipliant le learning rate par 0.1 (facteur de réduction).\n",
    "\n",
    "best_loss = float('inf')# initialiser la meilleure perte à l'infini pour la première comparaison\n",
    "patience, wait = 7, 0 # patience : nombre d'epochs sans amélioration avant d'arrêter l'entraînement\n",
    "num_epochs = 13 # nombre d'epochs d'entraînement\n",
    "\n",
    "train_losses, val_losses = [], []\n",
    "train_accs, val_accs = [], []\n",
    "\n",
    "for epoch in range(1, num_epochs + 1):\n",
    "    # --- Phase d'entraînement ---\n",
    "    model.train()\n",
    "    running_loss, correct, total = 0, 0, 0 #initialiser les variables pour l'entraînement\"\n",
    "    for imgs, tabs, labs in train_loader:\n",
    "        if len(imgs) == 0: continue\n",
    "        imgs, tabs, labs = imgs.to(device), tabs.to(device), labs.to(device)\n",
    "        optimizer.zero_grad() #remettre à zéro les gradients avant la rétropropagation\n",
    "        out = model(imgs, tabs) #passer les images et les données tabulaires dans le modèle\n",
    "        loss = criterion(out, labs) #calculer la perte entre les sorties du modèle et les labels\n",
    "        loss.backward() #rétropropagation de la perte pour calculer les gradients\n",
    "        optimizer.step() #mettre à jour les poids du modèle en fonction des gradients calculés\n",
    "        running_loss += loss.item() #accumuler la perte\n",
    "        preds = (torch.sigmoid(out) > 0.5).float() #appliquer la fonction sigmoïde pour obtenir des probabilités, puis binariser les prédictions (0 ou 1) en utilisant un seuil de 0.5\n",
    "        correct += (preds == labs).sum().item() #compter le nombre de prédictions correctes\n",
    "        total += labs.numel() #totaliser le nombre d'échantillons traités\n",
    "\n",
    "    train_losses.append(running_loss / len(train_loader))\n",
    "    train_accs.append(correct / total)\n",
    "\n",
    "    # --- Phase de validation ---\n",
    "    model.eval()\n",
    "    val_loss, correct, total = 0, 0, 0\n",
    "    with torch.no_grad():\n",
    "        for imgs, tabs, labs in val_loader:\n",
    "            if len(imgs) == 0: continue\n",
    "            imgs, tabs, labs = imgs.to(device), tabs.to(device), labs.to(device)\n",
    "            out = model(imgs, tabs)\n",
    "            val_loss += criterion(out, labs).item()\n",
    "            preds = (torch.sigmoid(out) > 0.5).float()\n",
    "            correct += (preds == labs).sum().item()\n",
    "            total += labs.numel()\n",
    "\n",
    "    val_losses.append(val_loss / len(val_loader))\n",
    "    val_accs.append(correct / total)\n",
    "\n",
    "    scheduler.step(val_losses[-1])\n",
    "\n",
    "    print(f\"Epoch {epoch}/{num_epochs} — \"\n",
    "          f\"Train Loss {train_losses[-1]:.4f} | Train Acc {train_accs[-1]:.4f} — \"\n",
    "          f\"Val Loss {val_losses[-1]:.4f} | Val Acc {val_accs[-1]:.4f}\")\n",
    "\n",
    "    # Early stopping\n",
    "    if val_losses[-1] < best_loss:\n",
    "        best_loss = val_losses[-1]\n",
    "        torch.save(model.state_dict(), \"ecg_classifier_final.pth\")\n",
    "        wait = 0\n",
    "    else:\n",
    "        wait += 1\n",
    "        if wait >= patience:\n",
    "            print(\"⏹ Early stopping\")\n",
    "            break\n",
    "\n",
    "# --- 7) Chargement du meilleur modèle ---\n",
    "model.load_state_dict(torch.load(\"ecg_classifier_final.pth\"))\n",
    "\n",
    "# --- 8) Visualisation ---\n",
    "plt.figure(figsize=(12, 5))\n",
    "plt.subplot(1, 2, 1)\n",
    "plt.plot(train_losses, label=\"Train Loss\")\n",
    "plt.plot(val_losses, label=\"Val Loss\")\n",
    "plt.title(\"Courbes de perte\")\n",
    "plt.legend()\n",
    "\n",
    "plt.subplot(1, 2, 2)\n",
    "plt.plot(train_accs, label=\"Train Acc\")\n",
    "plt.plot(val_accs, label=\"Val Acc\")\n",
    "plt.title(\"Courbes de précision\")\n",
    "plt.legend()\n",
    "plt.show()\n"
   ]
  },
  {
   "cell_type": "code",
   "execution_count": null,
   "metadata": {},
   "outputs": [
    {
     "name": "stdout",
     "output_type": "stream",
     "text": [
      "🧪 Test Loss: 0.2092 | Test Accuracy: 0.9169\n"
     ]
    }
   ],
   "source": [
    "model.eval()\n",
    "test_loss, correct, total = 0, 0, 0\n",
    "\n",
    "with torch.no_grad():\n",
    "    for imgs, tabs, labs in val_loader:\n",
    "        if len(imgs) == 0: continue\n",
    "        imgs, tabs, labs = imgs.to(device), tabs.to(device), labs.to(device)\n",
    "        out = model(imgs, tabs)\n",
    "        loss = criterion(out, labs)\n",
    "        test_loss += loss.item()\n",
    "        preds = (torch.sigmoid(out) > 0.5).float()\n",
    "        correct += (preds == labs).sum().item()\n",
    "        total += labs.numel()\n",
    "\n",
    "test_loss /= len(val_loader)\n",
    "test_acc = correct / total\n",
    "\n",
    "print(f\"🧪 Test Loss: {test_loss:.4f} | Test Accuracy: {test_acc:.4f}\")\n"
   ]
  },
  {
   "cell_type": "code",
   "execution_count": null,
   "metadata": {},
   "outputs": [
    {
     "name": "stdout",
     "output_type": "stream",
     "text": [
      "                             precision    recall  f1-score   support\n",
      "\n",
      " Myocardial Infarction (MI)       0.79      0.35      0.49       214\n",
      "         ST/T Change (STTC)       0.73      0.70      0.72       247\n",
      "Conduction Disturbance (CD)       0.84      0.75      0.79        83\n",
      "          Hypertrophy (HYP)       0.88      0.50      0.64       149\n",
      "              Normal (NORM)       0.91      0.91      0.91       565\n",
      "\n",
      "                  micro avg       0.85      0.71      0.78      1258\n",
      "                  macro avg       0.83      0.64      0.71      1258\n",
      "               weighted avg       0.85      0.71      0.76      1258\n",
      "                samples avg       0.67      0.64      0.65      1258\n",
      "\n"
     ]
    },
    {
     "name": "stderr",
     "output_type": "stream",
     "text": [
      "c:\\Users\\pc\\anaconda3\\Lib\\site-packages\\sklearn\\metrics\\_classification.py:1531: UndefinedMetricWarning: Precision is ill-defined and being set to 0.0 in samples with no predicted labels. Use `zero_division` parameter to control this behavior.\n",
      "  _warn_prf(average, modifier, f\"{metric.capitalize()} is\", len(result))\n",
      "c:\\Users\\pc\\anaconda3\\Lib\\site-packages\\sklearn\\metrics\\_classification.py:1531: UndefinedMetricWarning: Recall is ill-defined and being set to 0.0 in samples with no true labels. Use `zero_division` parameter to control this behavior.\n",
      "  _warn_prf(average, modifier, f\"{metric.capitalize()} is\", len(result))\n",
      "c:\\Users\\pc\\anaconda3\\Lib\\site-packages\\sklearn\\metrics\\_classification.py:1531: UndefinedMetricWarning: F-score is ill-defined and being set to 0.0 in samples with no true nor predicted labels. Use `zero_division` parameter to control this behavior.\n",
      "  _warn_prf(average, modifier, f\"{metric.capitalize()} is\", len(result))\n"
     ]
    }
   ],
   "source": [
    "from sklearn.metrics import classification_report\n",
    "\n",
    "all_preds = []\n",
    "all_labels = []\n",
    "\n",
    "with torch.no_grad():\n",
    "    for imgs, tabs, labs in val_loader:\n",
    "        if len(imgs) == 0: continue\n",
    "        imgs, tabs = imgs.to(device), tabs.to(device)\n",
    "        out = model(imgs, tabs)\n",
    "        preds = (torch.sigmoid(out) > 0.5).cpu().numpy()\n",
    "        all_preds.append(preds)\n",
    "        all_labels.append(labs.numpy())\n",
    "\n",
    "all_preds = np.vstack(all_preds)\n",
    "all_labels = np.vstack(all_labels)\n",
    "\n",
    "print(classification_report(all_labels, all_preds, target_names=target_columns))\n"
   ]
  },
  {
   "cell_type": "code",
   "execution_count": 19,
   "metadata": {},
   "outputs": [
    {
     "data": {
      "image/png": "[encoded data removed]",
      "text/plain": [
       "<Figure size 400x400 with 1 Axes>"
      ]
     },
     "metadata": {},
     "output_type": "display_data"
    },
    {
     "data": {
      "image/png": "[encoded data removed]",
      "text/plain": [
       "<Figure size 400x400 with 1 Axes>"
      ]
     },
     "metadata": {},
     "output_type": "display_data"
    },
    {
     "data": {
      "image/png": "[encoded data removed]",
      "text/plain": [
       "<Figure size 400x400 with 1 Axes>"
      ]
     },
     "metadata": {},
     "output_type": "display_data"
    },
    {
     "data": {
      "image/png": "[encoded data removed]",
      "text/plain": [
       "<Figure size 400x400 with 1 Axes>"
      ]
     },
     "metadata": {},
     "output_type": "display_data"
    },
    {
     "data": {
      "image/png": "[encoded data removed]",
      "text/plain": [
       "<Figure size 400x400 with 1 Axes>"
      ]
     },
     "metadata": {},
     "output_type": "display_data"
    }
   ],
   "source": [
    "from sklearn.metrics import multilabel_confusion_matrix\n",
    "import seaborn as sns\n",
    "import matplotlib.pyplot as plt\n",
    "\n",
    "# --- 2. Matrices de confusion multilabel ---\n",
    "mcm = multilabel_confusion_matrix(all_labels, all_preds)\n",
    "\n",
    "# --- 3. Affichage ---\n",
    "for i, label in enumerate(target_columns):\n",
    "    tn, fp, fn, tp = mcm[i].ravel()\n",
    "    matrix = np.array([[tn, fp], [fn, tp]])\n",
    "\n",
    "    plt.figure(figsize=(4, 4))\n",
    "    sns.heatmap(matrix, annot=True, fmt=\"d\", cmap=\"Blues\", cbar=False,\n",
    "                xticklabels=[\"Pred 0\", \"Pred 1\"],\n",
    "                yticklabels=[\"True 0\", \"True 1\"])\n",
    "    plt.title(f\"Confusion Matrix: {label}\")\n",
    "    plt.ylabel(\"True label\")\n",
    "    plt.xlabel(\"Predicted label\")\n",
    "    plt.tight_layout()\n",
    "    plt.show()"
   ]
  },
  {
   "cell_type": "code",
   "execution_count": 3,
   "metadata": {},
   "outputs": [
    {
     "name": "stdout",
     "output_type": "stream",
     "text": [
      "Collecting torchvizNote: you may need to restart the kernel to use updated packages.\n",
      "\n",
      "  Downloading torchviz-0.0.3-py3-none-any.whl.metadata (2.1 kB)\n",
      "Requirement already satisfied: torch in c:\\users\\pc\\anaconda3\\lib\\site-packages (from torchviz) (2.5.1)\n",
      "Collecting graphviz (from torchviz)\n",
      "  Downloading graphviz-0.20.3-py3-none-any.whl.metadata (12 kB)\n",
      "Requirement already satisfied: filelock in c:\\users\\pc\\anaconda3\\lib\\site-packages (from torch->torchviz) (3.13.1)\n",
      "Requirement already satisfied: typing-extensions>=4.8.0 in c:\\users\\pc\\anaconda3\\lib\\site-packages (from torch->torchviz) (4.11.0)\n",
      "Requirement already satisfied: setuptools in c:\\users\\pc\\anaconda3\\lib\\site-packages (from torch->torchviz) (75.1.0)\n",
      "Requirement already satisfied: sympy==1.13.1 in c:\\users\\pc\\anaconda3\\lib\\site-packages (from torch->torchviz) (1.13.1)\n",
      "Requirement already satisfied: networkx in c:\\users\\pc\\anaconda3\\lib\\site-packages (from torch->torchviz) (3.3)\n",
      "Requirement already satisfied: jinja2 in c:\\users\\pc\\anaconda3\\lib\\site-packages (from torch->torchviz) (3.1.4)\n",
      "Requirement already satisfied: fsspec in c:\\users\\pc\\anaconda3\\lib\\site-packages (from torch->torchviz) (2024.6.1)\n",
      "Requirement already satisfied: mpmath<1.4,>=1.1.0 in c:\\users\\pc\\anaconda3\\lib\\site-packages (from sympy==1.13.1->torch->torchviz) (1.3.0)\n",
      "Requirement already satisfied: MarkupSafe>=2.0 in c:\\users\\pc\\anaconda3\\lib\\site-packages (from jinja2->torch->torchviz) (2.1.3)\n",
      "Downloading torchviz-0.0.3-py3-none-any.whl (5.7 kB)\n",
      "Downloading graphviz-0.20.3-py3-none-any.whl (47 kB)\n",
      "Installing collected packages: graphviz, torchviz\n",
      "Successfully installed graphviz-0.20.3 torchviz-0.0.3\n"
     ]
    }
   ],
   "source": [
    "pip install torchviz\n"
   ]
  },
  {
   "cell_type": "code",
   "execution_count": 3,
   "metadata": {},
   "outputs": [],
   "source": [
    "# --- 5) Modèle CNN Léger ---\n",
    "class LightCNN(nn.Module):\n",
    "    def __init__(self, dropout_rate=0.3):\n",
    "        super().__init__()\n",
    "        def dw_conv(in_c, out_c):\n",
    "            return nn.Sequential(\n",
    "                nn.Conv2d(in_c, in_c, kernel_size=3, padding=1, groups=in_c),\n",
    "                nn.BatchNorm2d(in_c),\n",
    "                nn.ReLU(),\n",
    "                nn.Conv2d(in_c, out_c, kernel_size=1),\n",
    "                nn.BatchNorm2d(out_c),\n",
    "                nn.ReLU(),\n",
    "                nn.MaxPool2d(2)\n",
    "            )\n",
    "        self.conv1 = dw_conv(3, 16)\n",
    "        self.conv2 = dw_conv(16, 32)\n",
    "        self.conv3 = dw_conv(32, 64)\n",
    "\n",
    "        self.cnn_fc = nn.Sequential(\n",
    "            nn.Flatten(),\n",
    "            nn.Linear(64 * 16 * 16, 256),\n",
    "            nn.ReLU(),\n",
    "            nn.Dropout(dropout_rate)\n",
    "        )\n",
    "\n",
    "        self.mlp = nn.Sequential(\n",
    "            nn.Linear(4, 16), nn.BatchNorm1d(16), nn.ReLU(),\n",
    "            nn.Dropout(0.2),\n",
    "            nn.Linear(16, 32), nn.ReLU()\n",
    "        )\n",
    "\n",
    "        self.classifier = nn.Sequential(\n",
    "            nn.Linear(256 + 32, 64), nn.ReLU(),\n",
    "            nn.Dropout(dropout_rate),\n",
    "            nn.Linear(64, len(target_columns))\n",
    "        )\n",
    "\n",
    "    def forward(self, img, tab):\n",
    "        x = self.conv1(img)\n",
    "        x = self.conv2(x)\n",
    "        x = self.conv3(x)\n",
    "        x = self.cnn_fc(x)\n",
    "        y = self.mlp(tab)\n",
    "        return self.classifier(torch.cat([x, y], dim=1))\n",
    "  \n",
    "target_columns = [\n",
    "    \"Myocardial Infarction (MI)\", \"ST/T Change (STTC)\",\n",
    "    \"Conduction Disturbance (CD)\", \"Hypertrophy (HYP)\", \"Normal (NORM)\"\n",
    "]"
   ]
  },
  {
   "cell_type": "code",
   "execution_count": 4,
   "metadata": {},
   "outputs": [
    {
     "name": "stderr",
     "output_type": "stream",
     "text": [
      "C:\\Users\\pc\\AppData\\Local\\Temp\\ipykernel_12148\\1484643037.py:3: FutureWarning: You are using `torch.load` with `weights_only=False` (the current default value), which uses the default pickle module implicitly. It is possible to construct malicious pickle data which will execute arbitrary code during unpickling (See https://github.com/pytorch/pytorch/blob/main/SECURITY.md#untrusted-models for more details). In a future release, the default value for `weights_only` will be flipped to `True`. This limits the functions that could be executed during unpickling. Arbitrary objects will no longer be allowed to be loaded via this mode unless they are explicitly allowlisted by the user via `torch.serialization.add_safe_globals`. We recommend you start setting `weights_only=True` for any use case where you don't have full control of the loaded file. Please open an issue on GitHub for any issues related to this experimental feature.\n",
      "  model.load_state_dict(torch.load(\"ecg_classifier_final.pth\", map_location=device))\n"
     ]
    },
    {
     "data": {
      "text/plain": [
       "LightCNN(\n",
       "  (conv1): Sequential(\n",
       "    (0): Conv2d(3, 3, kernel_size=(3, 3), stride=(1, 1), padding=(1, 1), groups=3)\n",
       "    (1): BatchNorm2d(3, eps=1e-05, momentum=0.1, affine=True, track_running_stats=True)\n",
       "    (2): ReLU()\n",
       "    (3): Conv2d(3, 16, kernel_size=(1, 1), stride=(1, 1))\n",
       "    (4): BatchNorm2d(16, eps=1e-05, momentum=0.1, affine=True, track_running_stats=True)\n",
       "    (5): ReLU()\n",
       "    (6): MaxPool2d(kernel_size=2, stride=2, padding=0, dilation=1, ceil_mode=False)\n",
       "  )\n",
       "  (conv2): Sequential(\n",
       "    (0): Conv2d(16, 16, kernel_size=(3, 3), stride=(1, 1), padding=(1, 1), groups=16)\n",
       "    (1): BatchNorm2d(16, eps=1e-05, momentum=0.1, affine=True, track_running_stats=True)\n",
       "    (2): ReLU()\n",
       "    (3): Conv2d(16, 32, kernel_size=(1, 1), stride=(1, 1))\n",
       "    (4): BatchNorm2d(32, eps=1e-05, momentum=0.1, affine=True, track_running_stats=True)\n",
       "    (5): ReLU()\n",
       "    (6): MaxPool2d(kernel_size=2, stride=2, padding=0, dilation=1, ceil_mode=False)\n",
       "  )\n",
       "  (conv3): Sequential(\n",
       "    (0): Conv2d(32, 32, kernel_size=(3, 3), stride=(1, 1), padding=(1, 1), groups=32)\n",
       "    (1): BatchNorm2d(32, eps=1e-05, momentum=0.1, affine=True, track_running_stats=True)\n",
       "    (2): ReLU()\n",
       "    (3): Conv2d(32, 64, kernel_size=(1, 1), stride=(1, 1))\n",
       "    (4): BatchNorm2d(64, eps=1e-05, momentum=0.1, affine=True, track_running_stats=True)\n",
       "    (5): ReLU()\n",
       "    (6): MaxPool2d(kernel_size=2, stride=2, padding=0, dilation=1, ceil_mode=False)\n",
       "  )\n",
       "  (cnn_fc): Sequential(\n",
       "    (0): Flatten(start_dim=1, end_dim=-1)\n",
       "    (1): Linear(in_features=16384, out_features=256, bias=True)\n",
       "    (2): ReLU()\n",
       "    (3): Dropout(p=0.3, inplace=False)\n",
       "  )\n",
       "  (mlp): Sequential(\n",
       "    (0): Linear(in_features=4, out_features=16, bias=True)\n",
       "    (1): BatchNorm1d(16, eps=1e-05, momentum=0.1, affine=True, track_running_stats=True)\n",
       "    (2): ReLU()\n",
       "    (3): Dropout(p=0.2, inplace=False)\n",
       "    (4): Linear(in_features=16, out_features=32, bias=True)\n",
       "    (5): ReLU()\n",
       "  )\n",
       "  (classifier): Sequential(\n",
       "    (0): Linear(in_features=288, out_features=64, bias=True)\n",
       "    (1): ReLU()\n",
       "    (2): Dropout(p=0.3, inplace=False)\n",
       "    (3): Linear(in_features=64, out_features=5, bias=True)\n",
       "  )\n",
       ")"
      ]
     },
     "execution_count": 4,
     "metadata": {},
     "output_type": "execute_result"
    }
   ],
   "source": [
    "device = torch.device(\"cuda\" if torch.cuda.is_available() else \"cpu\")\n",
    "model = LightCNN().to(device)\n",
    "model.load_state_dict(torch.load(\"ecg_classifier_final.pth\", map_location=device))\n",
    "model.eval()\n"
   ]
  },
  {
   "cell_type": "code",
   "execution_count": 5,
   "metadata": {},
   "outputs": [
    {
     "data": {
      "text/plain": [
       "'model_architecture.png'"
      ]
     },
     "execution_count": 5,
     "metadata": {},
     "output_type": "execute_result"
    }
   ],
   "source": [
    "# Créez une entrée d'exemple\n",
    "from torchviz import make_dot\n",
    "\n",
    "img = torch.randn(1, 3, 128, 128)  # Exemple d'image de taille 64x64 (ajustez si nécessaire)\n",
    "tab = torch.randn(1, 4)  # Exemple de données tabulaires (4 features)\n",
    "img = img.to(device)\n",
    "tab = tab.to(device)\n",
    "\n",
    "# Passez l'entrée à travers le modèle\n",
    "output = model(img, tab)\n",
    "\n",
    "# Créez le graphique et sauvegardez-le en PNG\n",
    "make_dot(output, params=dict(model.named_parameters())).render(\"model_architecture\", format=\"png\")"
   ]
  },
  {
   "cell_type": "code",
   "execution_count": 8,
   "metadata": {},
   "outputs": [
    {
     "name": "stdout",
     "output_type": "stream",
     "text": [
      "Collecting torchsummary\n",
      "  Downloading torchsummary-1.5.1-py3-none-any.whl.metadata (296 bytes)\n",
      "Downloading torchsummary-1.5.1-py3-none-any.whl (2.8 kB)\n",
      "Installing collected packages: torchsummary\n",
      "Successfully installed torchsummary-1.5.1\n",
      "Note: you may need to restart the kernel to use updated packages.\n"
     ]
    }
   ],
   "source": [
    "pip install torchsummary"
   ]
  },
  {
   "cell_type": "code",
   "execution_count": 10,
   "metadata": {},
   "outputs": [
    {
     "name": "stdout",
     "output_type": "stream",
     "text": [
      "----------------------------------------------------------------\n",
      "        Layer (type)               Output Shape         Param #\n",
      "================================================================\n",
      "            Conv2d-1          [-1, 3, 128, 128]              30\n",
      "       BatchNorm2d-2          [-1, 3, 128, 128]               6\n",
      "              ReLU-3          [-1, 3, 128, 128]               0\n",
      "            Conv2d-4         [-1, 16, 128, 128]              64\n",
      "       BatchNorm2d-5         [-1, 16, 128, 128]              32\n",
      "              ReLU-6         [-1, 16, 128, 128]               0\n",
      "         MaxPool2d-7           [-1, 16, 64, 64]               0\n",
      "            Conv2d-8           [-1, 16, 64, 64]             160\n",
      "       BatchNorm2d-9           [-1, 16, 64, 64]              32\n",
      "             ReLU-10           [-1, 16, 64, 64]               0\n",
      "           Conv2d-11           [-1, 32, 64, 64]             544\n",
      "      BatchNorm2d-12           [-1, 32, 64, 64]              64\n",
      "             ReLU-13           [-1, 32, 64, 64]               0\n",
      "        MaxPool2d-14           [-1, 32, 32, 32]               0\n",
      "           Conv2d-15           [-1, 32, 32, 32]             320\n",
      "      BatchNorm2d-16           [-1, 32, 32, 32]              64\n",
      "             ReLU-17           [-1, 32, 32, 32]               0\n",
      "           Conv2d-18           [-1, 64, 32, 32]           2,112\n",
      "      BatchNorm2d-19           [-1, 64, 32, 32]             128\n",
      "             ReLU-20           [-1, 64, 32, 32]               0\n",
      "        MaxPool2d-21           [-1, 64, 16, 16]               0\n",
      "          Flatten-22                [-1, 16384]               0\n",
      "           Linear-23                  [-1, 256]       4,194,560\n",
      "             ReLU-24                  [-1, 256]               0\n",
      "          Dropout-25                  [-1, 256]               0\n",
      "           Linear-26                   [-1, 16]              80\n",
      "      BatchNorm1d-27                   [-1, 16]              32\n",
      "             ReLU-28                   [-1, 16]               0\n",
      "          Dropout-29                   [-1, 16]               0\n",
      "           Linear-30                   [-1, 32]             544\n",
      "             ReLU-31                   [-1, 32]               0\n",
      "           Linear-32                   [-1, 64]          18,496\n",
      "             ReLU-33                   [-1, 64]               0\n",
      "          Dropout-34                   [-1, 64]               0\n",
      "           Linear-35                    [-1, 5]             325\n"
     ]
    },
    {
     "ename": "ValueError",
     "evalue": "setting an array element with a sequence. The requested array has an inhomogeneous shape after 1 dimensions. The detected shape was (2,) + inhomogeneous part.",
     "output_type": "error",
     "traceback": [
      "\u001b[1;31m---------------------------------------------------------------------------\u001b[0m",
      "\u001b[1;31mValueError\u001b[0m                                Traceback (most recent call last)",
      "Cell \u001b[1;32mIn[10], line 3\u001b[0m\n\u001b[0;32m      1\u001b[0m \u001b[38;5;28;01mfrom\u001b[39;00m \u001b[38;5;21;01mtorchsummary\u001b[39;00m \u001b[38;5;28;01mimport\u001b[39;00m summary\n\u001b[1;32m----> 3\u001b[0m summary(model, [(\u001b[38;5;241m3\u001b[39m, \u001b[38;5;241m128\u001b[39m, \u001b[38;5;241m128\u001b[39m), (\u001b[38;5;241m4\u001b[39m,)])\n",
      "File \u001b[1;32mc:\\Users\\pc\\anaconda3\\Lib\\site-packages\\torchsummary\\torchsummary.py:100\u001b[0m, in \u001b[0;36msummary\u001b[1;34m(model, input_size, batch_size, device)\u001b[0m\n\u001b[0;32m     97\u001b[0m     \u001b[38;5;28mprint\u001b[39m(line_new)\n\u001b[0;32m     99\u001b[0m \u001b[38;5;66;03m# assume 4 bytes/number (float on cuda).\u001b[39;00m\n\u001b[1;32m--> 100\u001b[0m total_input_size \u001b[38;5;241m=\u001b[39m \u001b[38;5;28mabs\u001b[39m(np\u001b[38;5;241m.\u001b[39mprod(input_size) \u001b[38;5;241m*\u001b[39m batch_size \u001b[38;5;241m*\u001b[39m \u001b[38;5;241m4.\u001b[39m \u001b[38;5;241m/\u001b[39m (\u001b[38;5;241m1024\u001b[39m \u001b[38;5;241m*\u001b[39m\u001b[38;5;241m*\u001b[39m \u001b[38;5;241m2.\u001b[39m))\n\u001b[0;32m    101\u001b[0m total_output_size \u001b[38;5;241m=\u001b[39m \u001b[38;5;28mabs\u001b[39m(\u001b[38;5;241m2.\u001b[39m \u001b[38;5;241m*\u001b[39m total_output \u001b[38;5;241m*\u001b[39m \u001b[38;5;241m4.\u001b[39m \u001b[38;5;241m/\u001b[39m (\u001b[38;5;241m1024\u001b[39m \u001b[38;5;241m*\u001b[39m\u001b[38;5;241m*\u001b[39m \u001b[38;5;241m2.\u001b[39m))  \u001b[38;5;66;03m# x2 for gradients\u001b[39;00m\n\u001b[0;32m    102\u001b[0m total_params_size \u001b[38;5;241m=\u001b[39m \u001b[38;5;28mabs\u001b[39m(total_params\u001b[38;5;241m.\u001b[39mnumpy() \u001b[38;5;241m*\u001b[39m \u001b[38;5;241m4.\u001b[39m \u001b[38;5;241m/\u001b[39m (\u001b[38;5;241m1024\u001b[39m \u001b[38;5;241m*\u001b[39m\u001b[38;5;241m*\u001b[39m \u001b[38;5;241m2.\u001b[39m))\n",
      "File \u001b[1;32mc:\\Users\\pc\\anaconda3\\Lib\\site-packages\\numpy\\core\\fromnumeric.py:3100\u001b[0m, in \u001b[0;36mprod\u001b[1;34m(a, axis, dtype, out, keepdims, initial, where)\u001b[0m\n\u001b[0;32m   2979\u001b[0m \u001b[38;5;129m@array_function_dispatch\u001b[39m(_prod_dispatcher)\n\u001b[0;32m   2980\u001b[0m \u001b[38;5;28;01mdef\u001b[39;00m \u001b[38;5;21mprod\u001b[39m(a, axis\u001b[38;5;241m=\u001b[39m\u001b[38;5;28;01mNone\u001b[39;00m, dtype\u001b[38;5;241m=\u001b[39m\u001b[38;5;28;01mNone\u001b[39;00m, out\u001b[38;5;241m=\u001b[39m\u001b[38;5;28;01mNone\u001b[39;00m, keepdims\u001b[38;5;241m=\u001b[39mnp\u001b[38;5;241m.\u001b[39m_NoValue,\n\u001b[0;32m   2981\u001b[0m          initial\u001b[38;5;241m=\u001b[39mnp\u001b[38;5;241m.\u001b[39m_NoValue, where\u001b[38;5;241m=\u001b[39mnp\u001b[38;5;241m.\u001b[39m_NoValue):\n\u001b[0;32m   2982\u001b[0m \u001b[38;5;250m    \u001b[39m\u001b[38;5;124;03m\"\"\"\u001b[39;00m\n\u001b[0;32m   2983\u001b[0m \u001b[38;5;124;03m    Return the product of array elements over a given axis.\u001b[39;00m\n\u001b[0;32m   2984\u001b[0m \n\u001b[1;32m   (...)\u001b[0m\n\u001b[0;32m   3098\u001b[0m \u001b[38;5;124;03m    10\u001b[39;00m\n\u001b[0;32m   3099\u001b[0m \u001b[38;5;124;03m    \"\"\"\u001b[39;00m\n\u001b[1;32m-> 3100\u001b[0m     \u001b[38;5;28;01mreturn\u001b[39;00m _wrapreduction(a, np\u001b[38;5;241m.\u001b[39mmultiply, \u001b[38;5;124m'\u001b[39m\u001b[38;5;124mprod\u001b[39m\u001b[38;5;124m'\u001b[39m, axis, dtype, out,\n\u001b[0;32m   3101\u001b[0m                           keepdims\u001b[38;5;241m=\u001b[39mkeepdims, initial\u001b[38;5;241m=\u001b[39minitial, where\u001b[38;5;241m=\u001b[39mwhere)\n",
      "File \u001b[1;32mc:\\Users\\pc\\anaconda3\\Lib\\site-packages\\numpy\\core\\fromnumeric.py:88\u001b[0m, in \u001b[0;36m_wrapreduction\u001b[1;34m(obj, ufunc, method, axis, dtype, out, **kwargs)\u001b[0m\n\u001b[0;32m     85\u001b[0m         \u001b[38;5;28;01melse\u001b[39;00m:\n\u001b[0;32m     86\u001b[0m             \u001b[38;5;28;01mreturn\u001b[39;00m reduction(axis\u001b[38;5;241m=\u001b[39maxis, out\u001b[38;5;241m=\u001b[39mout, \u001b[38;5;241m*\u001b[39m\u001b[38;5;241m*\u001b[39mpasskwargs)\n\u001b[1;32m---> 88\u001b[0m \u001b[38;5;28;01mreturn\u001b[39;00m ufunc\u001b[38;5;241m.\u001b[39mreduce(obj, axis, dtype, out, \u001b[38;5;241m*\u001b[39m\u001b[38;5;241m*\u001b[39mpasskwargs)\n",
      "\u001b[1;31mValueError\u001b[0m: setting an array element with a sequence. The requested array has an inhomogeneous shape after 1 dimensions. The detected shape was (2,) + inhomogeneous part."
     ]
    }
   ],
   "source": [
    "from torchsummary import summary\n",
    "\n",
    "summary(model, [(3, 128, 128), (4,)]) "
   ]
  },
  {
   "cell_type": "code",
   "execution_count": null,
   "metadata": {},
   "outputs": [
    {
     "name": "stderr",
     "output_type": "stream",
     "text": [
      "C:\\Users\\pc\\AppData\\Local\\Temp\\ipykernel_4684\\2912356522.py:3: FutureWarning: You are using `torch.load` with `weights_only=False` (the current default value), which uses the default pickle module implicitly. It is possible to construct malicious pickle data which will execute arbitrary code during unpickling (See https://github.com/pytorch/pytorch/blob/main/SECURITY.md#untrusted-models for more details). In a future release, the default value for `weights_only` will be flipped to `True`. This limits the functions that could be executed during unpickling. Arbitrary objects will no longer be allowed to be loaded via this mode unless they are explicitly allowlisted by the user via `torch.serialization.add_safe_globals`. We recommend you start setting `weights_only=True` for any use case where you don't have full control of the loaded file. Please open an issue on GitHub for any issues related to this experimental feature.\n",
      "  model.load_state_dict(torch.load(\"ecg_classifier_final.pth\", map_location=device))\n"
     ]
    },
    {
     "data": {
      "text/plain": [
       "LightCNN(\n",
       "  (conv1): Sequential(\n",
       "    (0): Conv2d(3, 3, kernel_size=(3, 3), stride=(1, 1), padding=(1, 1), groups=3)\n",
       "    (1): BatchNorm2d(3, eps=1e-05, momentum=0.1, affine=True, track_running_stats=True)\n",
       "    (2): ReLU()\n",
       "    (3): Conv2d(3, 16, kernel_size=(1, 1), stride=(1, 1))\n",
       "    (4): BatchNorm2d(16, eps=1e-05, momentum=0.1, affine=True, track_running_stats=True)\n",
       "    (5): ReLU()\n",
       "    (6): MaxPool2d(kernel_size=2, stride=2, padding=0, dilation=1, ceil_mode=False)\n",
       "  )\n",
       "  (conv2): Sequential(\n",
       "    (0): Conv2d(16, 16, kernel_size=(3, 3), stride=(1, 1), padding=(1, 1), groups=16)\n",
       "    (1): BatchNorm2d(16, eps=1e-05, momentum=0.1, affine=True, track_running_stats=True)\n",
       "    (2): ReLU()\n",
       "    (3): Conv2d(16, 32, kernel_size=(1, 1), stride=(1, 1))\n",
       "    (4): BatchNorm2d(32, eps=1e-05, momentum=0.1, affine=True, track_running_stats=True)\n",
       "    (5): ReLU()\n",
       "    (6): MaxPool2d(kernel_size=2, stride=2, padding=0, dilation=1, ceil_mode=False)\n",
       "  )\n",
       "  (conv3): Sequential(\n",
       "    (0): Conv2d(32, 32, kernel_size=(3, 3), stride=(1, 1), padding=(1, 1), groups=32)\n",
       "    (1): BatchNorm2d(32, eps=1e-05, momentum=0.1, affine=True, track_running_stats=True)\n",
       "    (2): ReLU()\n",
       "    (3): Conv2d(32, 64, kernel_size=(1, 1), stride=(1, 1))\n",
       "    (4): BatchNorm2d(64, eps=1e-05, momentum=0.1, affine=True, track_running_stats=True)\n",
       "    (5): ReLU()\n",
       "    (6): MaxPool2d(kernel_size=2, stride=2, padding=0, dilation=1, ceil_mode=False)\n",
       "  )\n",
       "  (cnn_fc): Sequential(\n",
       "    (0): Flatten(start_dim=1, end_dim=-1)\n",
       "    (1): Linear(in_features=16384, out_features=256, bias=True)\n",
       "    (2): ReLU()\n",
       "    (3): Dropout(p=0.3, inplace=False)\n",
       "  )\n",
       "  (mlp): Sequential(\n",
       "    (0): Linear(in_features=4, out_features=16, bias=True)\n",
       "    (1): BatchNorm1d(16, eps=1e-05, momentum=0.1, affine=True, track_running_stats=True)\n",
       "    (2): ReLU()\n",
       "    (3): Dropout(p=0.2, inplace=False)\n",
       "    (4): Linear(in_features=16, out_features=32, bias=True)\n",
       "    (5): ReLU()\n",
       "  )\n",
       "  (classifier): Sequential(\n",
       "    (0): Linear(in_features=288, out_features=64, bias=True)\n",
       "    (1): ReLU()\n",
       "    (2): Dropout(p=0.3, inplace=False)\n",
       "    (3): Linear(in_features=64, out_features=5, bias=True)\n",
       "  )\n",
       ")"
      ]
     },
     "execution_count": 4,
     "metadata": {},
     "output_type": "execute_result"
    }
   ],
   "source": [
    "\n",
    "from PIL import Image\n",
    "from torchvision import transforms\n",
    "import torch\n",
    "\n",
    "# Même transform que pour l'entraînement\n",
    "image_transform = transforms.Compose([\n",
    "    transforms.Resize((128, 128)),\n",
    "    transforms.Grayscale(num_output_channels=3),\n",
    "    transforms.ToTensor(),\n",
    "    transforms.Normalize((0.5, 0.5, 0.5), (0.5, 0.5, 0.5))\n",
    "])\n",
    "\n",
    "# Exemple : prédiction pour une image\n",
    "img_path = r\"records100\\21338_lr.png\"  # change selon ton cas\n",
    "image = Image.open(img_path).convert(\"RGB\")\n",
    "image = image_transform(image).unsqueeze(0).to(device)  # (1, 3, 128, 128)\n",
    "\n",
    "# Données tabulaires associées (âge, sexe, taille, poids)\n",
    "tab_data = torch.tensor([[68.0,0.0,0.0,0.0]], dtype=torch.float32).to(device)  # 1 ligne\n",
    "\n",
    "# --- Prédiction ---\n",
    "with torch.no_grad():\n",
    "    output = model(image, tab_data)\n",
    "    probs = torch.sigmoid(output).cpu().numpy()[0]"
   ]
  },
  {
   "cell_type": "code",
   "execution_count": 18,
   "metadata": {},
   "outputs": [
    {
     "name": "stdout",
     "output_type": "stream",
     "text": [
      "Myocardial Infarction (MI): 0.41\n",
      "ST/T Change (STTC): 0.27\n",
      "Conduction Disturbance (CD): 0.03\n",
      "Hypertrophy (HYP): 0.06\n",
      "Normal (NORM): 0.05\n"
     ]
    }
   ],
   "source": [
    "# Affichage des résultats\n",
    "for label, prob in zip(target_columns, probs):\n",
    "    print(f\"{label}: {prob:.2f}\")"
   ]
  },
  {
   "cell_type": "code",
   "execution_count": 19,
   "metadata": {},
   "outputs": [
    {
     "name": "stderr",
     "output_type": "stream",
     "text": [
      "C:\\Users\\pc\\AppData\\Local\\Temp\\ipykernel_4684\\3310757987.py:41: FutureWarning: You are using `torch.load` with `weights_only=False` (the current default value), which uses the default pickle module implicitly. It is possible to construct malicious pickle data which will execute arbitrary code during unpickling (See https://github.com/pytorch/pytorch/blob/main/SECURITY.md#untrusted-models for more details). In a future release, the default value for `weights_only` will be flipped to `True`. This limits the functions that could be executed during unpickling. Arbitrary objects will no longer be allowed to be loaded via this mode unless they are explicitly allowlisted by the user via `torch.serialization.add_safe_globals`. We recommend you start setting `weights_only=True` for any use case where you don't have full control of the loaded file. Please open an issue on GitHub for any issues related to this experimental feature.\n",
      "  model.load_state_dict(torch.load(\"ecg_classifier_final.pth\", map_location=device))\n"
     ]
    },
    {
     "name": "stdout",
     "output_type": "stream",
     "text": [
      "12466 images traitées.\n",
      "Meilleur seuil déterminé : 0.34 avec un F1 score = 0.7335654079114008\n",
      "\n",
      "Rapport de classification final :\n",
      "                             precision    recall  f1-score   support\n",
      "\n",
      " Myocardial Infarction (MI)       0.56      0.63      0.59      2314\n",
      "         ST/T Change (STTC)       0.58      0.83      0.69      2453\n",
      "Conduction Disturbance (CD)       0.70      0.91      0.79       931\n",
      "          Hypertrophy (HYP)       0.73      0.69      0.71      1377\n",
      "              Normal (NORM)       0.83      0.95      0.88      5510\n",
      "\n",
      "                  micro avg       0.71      0.84      0.77     12585\n",
      "                  macro avg       0.68      0.80      0.73     12585\n",
      "               weighted avg       0.71      0.84      0.77     12585\n",
      "                samples avg       0.70      0.73      0.70     12585\n",
      "\n"
     ]
    }
   ],
   "source": [
    "import os\n",
    "import pandas as pd\n",
    "import numpy as np\n",
    "from PIL import Image\n",
    "import torch\n",
    "from torchvision import transforms\n",
    "from sklearn.metrics import f1_score, classification_report\n",
    "import pandas as pd \n",
    "\n",
    "\n",
    "df=pd.read_csv('classification.csv')\n",
    "\n",
    "\n",
    "\n",
    "# Vérification et initialisation du DataFrame s'il n'existe pas déjà\n",
    "try:\n",
    "    df\n",
    "except NameError:\n",
    "    df = pd.DataFrame(columns=[\n",
    "        \"filename_lr\", \"age\", \"sex\", \"height\", \"weight\",\n",
    "        \"Myocardial Infarction (MI)\", \"ST/T Change (STTC)\",\n",
    "        \"Conduction Disturbance (CD)\", \"Hypertrophy (HYP)\", \"Normal (NORM)\"\n",
    "    ])\n",
    "\n",
    "# Répertoire contenant les images\n",
    "image_dir = 'records100'\n",
    "# Mise à jour des chemins pour qu'ils pointent vers les fichiers .png dans le dossier image_dir\n",
    "df[\"filename_lr\"] = df[\"filename_lr\"].apply(lambda p: os.path.join(image_dir, p.split(\"/\")[-1] + \".png\"))\n",
    "# Filtre pour ne garder que les lignes dont l'image existe\n",
    "df = df[df[\"filename_lr\"].apply(os.path.exists)].reset_index(drop=True)\n",
    "\n",
    "# Colonnes cibles (labels multilabel)\n",
    "target_columns = [\n",
    "    \"Myocardial Infarction (MI)\", \"ST/T Change (STTC)\",\n",
    "    \"Conduction Disturbance (CD)\", \"Hypertrophy (HYP)\", \"Normal (NORM)\"\n",
    "]\n",
    "\n",
    "# Configuration du device et chargement du modèle\n",
    "device = torch.device(\"cuda\" if torch.cuda.is_available() else \"cpu\")\n",
    "model = LightCNN().to(device)\n",
    "model.load_state_dict(torch.load(\"ecg_classifier_final.pth\", map_location=device))\n",
    "model.eval()\n",
    "\n",
    "# Transformation identique à celle utilisée pour l'entraînement\n",
    "image_transform = transforms.Compose([\n",
    "    transforms.Resize((128, 128)),\n",
    "    transforms.Grayscale(num_output_channels=3),\n",
    "    transforms.ToTensor(),\n",
    "    transforms.Normalize((0.5, 0.5, 0.5), (0.5, 0.5, 0.5))\n",
    "])\n",
    "\n",
    "def compute_predictions_and_labels(df, image_dir):\n",
    "    \"\"\"\n",
    "    Parcourt le DataFrame, charge les images existantes et récupère :\n",
    "      - all_probs : probabilités prédites pour chaque image,\n",
    "      - y_true : labels réels (binaire) pour chaque image.\n",
    "    \"\"\"\n",
    "    y_true = []\n",
    "    all_probs = []\n",
    "    found = 0\n",
    "\n",
    "    for idx, row in df.iterrows():\n",
    "        img_path = row[\"filename_lr\"]\n",
    "        if not os.path.exists(img_path):\n",
    "            continue  # image non trouvée, passer à la suivante\n",
    "        \n",
    "        try:\n",
    "            # Chargement et transformation de l'image\n",
    "            image = Image.open(img_path).convert(\"RGB\")\n",
    "            image = image_transform(image).unsqueeze(0).to(device)\n",
    "            \n",
    "            # Préparation des données tabulaires (âge, sexe, taille, poids)\n",
    "            tab_data = torch.tensor([[row['age'], row['sex'], row['height'], row['weight']]],\n",
    "                                    dtype=torch.float32).to(device)\n",
    "            \n",
    "            # Prédiction\n",
    "            with torch.no_grad():\n",
    "                output = model(image, tab_data)\n",
    "                probs = torch.sigmoid(output).cpu().numpy()[0]\n",
    "            \n",
    "            all_probs.append(probs)\n",
    "            true_labels = row[target_columns].values.astype(int)\n",
    "            y_true.append(true_labels)\n",
    "            found += 1\n",
    "\n",
    "        except Exception as e:\n",
    "            print(f\"Erreur pour l'image {img_path} : {e}\")\n",
    "    \n",
    "    if found == 0:\n",
    "        raise ValueError(\"Aucune image trouvée dans le dossier spécifié.\")\n",
    "    \n",
    "    print(f\"{found} images traitées.\")\n",
    "    return np.array(y_true), np.array(all_probs)\n",
    "\n",
    "def determine_best_threshold(y_true, all_probs):\n",
    "    \"\"\"\n",
    "    Parcourt plusieurs seuils entre 0 et 1 pour déterminer celui qui maximise le F1 score macro.\n",
    "    \"\"\"\n",
    "    best_threshold = 0.0\n",
    "    best_f1 = 0.0\n",
    "\n",
    "    # Teste 101 seuils de 0.0 à 1.0\n",
    "    for t in np.linspace(0, 1, 101):\n",
    "        y_pred = (all_probs >= t).astype(int)\n",
    "        f1 = f1_score(y_true, y_pred, average=\"macro\", zero_division=0)\n",
    "        if f1 > best_f1:\n",
    "            best_f1 = f1\n",
    "            best_threshold = t\n",
    "    \n",
    "    print(f\"Meilleur seuil déterminé : {best_threshold} avec un F1 score = {best_f1}\")\n",
    "    return best_threshold\n",
    "\n",
    "def evaluate_model_and_determine_threshold(df, image_dir):\n",
    "    \"\"\"\n",
    "    Fonction principale qui :\n",
    "      - récupère les labels réels et probabilités prédites,\n",
    "      - détermine automatiquement le meilleur seuil,\n",
    "      - affiche le rapport de classification final avec ce seuil.\n",
    "    \"\"\"\n",
    "    y_true, all_probs = compute_predictions_and_labels(df, image_dir)\n",
    "    best_threshold = determine_best_threshold(y_true, all_probs)\n",
    "    \n",
    "    # Calcul final avec le seuil optimal\n",
    "    y_pred = (all_probs >= best_threshold).astype(int)\n",
    "    \n",
    "    print(\"\\nRapport de classification final :\")\n",
    "    print(classification_report(y_true, y_pred, target_names=target_columns, zero_division=0))\n",
    "    \n",
    "    return best_threshold, y_true, y_pred\n",
    "\n",
    "# Exemple d'utilisation :\n",
    "best_threshold, y_true, y_pred = evaluate_model_and_determine_threshold(df, image_dir)\n"
   ]
  },
  {
   "cell_type": "code",
   "execution_count": null,
   "metadata": {},
   "outputs": [],
   "source": []
  }
 ],
 "metadata": {
  "kernelspec": {
   "display_name": "base",
   "language": "python",
   "name": "python3"
  },
  "language_info": {
   "codemirror_mode": {
    "name": "ipython",
    "version": 3
   },
   "file_extension": ".py",
   "mimetype": "text/x-python",
   "name": "python",
   "nbconvert_exporter": "python",
   "pygments_lexer": "ipython3",
   "version": "3.12.7"
  }
 },
 "nbformat": 4,
 "nbformat_minor": 2
}
